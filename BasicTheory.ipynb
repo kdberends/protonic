{
 "cells": [
  {
   "cell_type": "markdown",
   "id": "c5ac6991-8e3f-4ee5-ab42-425d9056b81b",
   "metadata": {},
   "source": [
    "# Physics of proton therapy\n",
    "\n",
    "This notebook contains an engineer's approach to understand the physics of proton therapy. \n",
    "\n",
    "## Basic theory\n",
    "\n",
    "Proton therapy delivers a targeted radiation dose on a tumor. _Dose_ is a quantity which is the measure of the energy deposited in matter by ionizing radiation per unit mass. The location and quantity of the dose depends on the energy of a proton. \n",
    "\n",
    "The energy of a moving proton is a combination of its rest mass and kinetic energy. Because the velocity of a proton is close to the speed of light, relativistic effects cannot be ignored. The total mass $E_T$ of a proton is given as: \n",
    "\n",
    "$$\n",
    "E_T = \\frac{m_0c^2}{\\gamma^2} - m_0c^2\n",
    "$$\n",
    "\n",
    "here $m_0$ is the rest mass, $m_0c^2$ the rest energy and $\\gamma=\\sqrt{1-\\frac{v^2}{c^2}}^{-1}$. The total mass can also be computed as the squared sum of the kinetic and rest masses. The kinetic energy of a proton is $E_k=pc$, with the relativistic impulse \n",
    "\n",
    "$$\n",
    "p = \\frac{m_0v}{\\sqrt{1-\\frac{v^2}{c^2}}}\n",
    "$$\n",
    "\n",
    "where $v$ is the velocity of the proton. From this we can obtain to equivalent expressions for $v$:\n",
    "\n",
    "$$\n",
    "v=\\frac{pc^2}{E_T}\n",
    "$$\n",
    "\n",
    "or \n",
    "\n",
    "$$\n",
    "v = \\frac{E_k}{E_T} c\n",
    "$$\n",
    "\n",
    "The typical kinetic energy of protons in radiation therapy is 100 to 250 MeV (Note: _However, a treatment system that can produce 250 MeV protons must provide adequate neutron shielding for neutrons produced by interactions of a beam of this energy in the treatment head and in a patient._, Sengbush et al.). So we can compute the velocity of a 250 MeV proton:\n"
   ]
  },
  {
   "cell_type": "code",
   "execution_count": 14,
   "id": "b43fb8b7-5940-4cb9-8d01-cea4778dfd68",
   "metadata": {},
   "outputs": [
    {
     "name": "stdout",
     "output_type": "stream",
     "text": [
      "The velocity of particles in a 250 MeV proton beam is 77186 km/s, or 25.7 % the speed of light\n"
     ]
    }
   ],
   "source": [
    "# Constants\n",
    "mp = 1.67262e-27 # rest mass of proton [kg-1]\n",
    "c = 299792458 # speed of light [ms^-1]\n",
    "\n",
    "# Variables\n",
    "Ek = 250 # MeV\n",
    "\n",
    "# Functions\n",
    "Joule2MeV = lambda J: J/1.602176634e-13 # conversion from Joule to MeV\n",
    "MeV2Joule = lambda MeV: MeV*1.602176634e-13 # Conversion from MeV to Joule\n",
    "E2v = lambda Ek, Et: Ek*c/Et # conversion from energy to velocity\n",
    "\n",
    "# Rest energy of proton\n",
    "E0 = mp*c**2  # in kgms^-2 === Joule\n",
    "\n",
    "# Convert to MeV\n",
    "E0 = Joule2MeV(E0)\n",
    "\n",
    "# given an energy beam of 250 MeV, the total energy is \n",
    "Et = (Ek**2 + E0**2)**0.5\n",
    "\n",
    "# Velocity of a proton\n",
    "v = E2v(Ek, Et)\n",
    "\n",
    "# Answer\n",
    "print(f\"The velocity of particles in a {Ek} MeV proton beam is {v/1000:.0f} km/s, or {v/c*100:.1f} % the speed of light\")"
   ]
  },
  {
   "cell_type": "markdown",
   "id": "dd93b964-e07e-43d1-9c77-cf12deedf4cd",
   "metadata": {},
   "source": [
    "## References\n",
    "\n",
    "Newhauser & Zhang (2015) The physics of proton therapy. Phys Med Biol. 2015 Mar 24;60(8):R155–R209. doi: 10.1088/0031-9155/60/8/R155\n",
    "Palmans, PTRAN, a Monte Carlo code for transport simulation of 50 to 250 MeV protons, http://resource.npl.co.uk/docs/science_technology/ionising%20radiation/clubs_groups/monte_carlo/2004/workshop/ptran_notes.pdf\n",
    "Berger (1993) Penetration of Proton Beams Through Water I. Depth-dose Distribution, Spectra and LET Distribution https://archive.org/details/penetrationofpro5226berg/page/n2/mode/1up\n",
    "Introduction to elementary particle physics: https://www.phys.ufl.edu/~korytov/tmp4/lectures/note_A10_interaction_of_particles_with_matter.pdf\n",
    "Sengbush et al. Maximum proton kinetic energy and patient-generated neutron fluence considerations in proton beam arc delivery radiation therapy, Med Phys. 2009 Jan 8;36(2):364–372. doi: 10.1118/1.3049787\n"
   ]
  }
 ],
 "metadata": {
  "kernelspec": {
   "display_name": "Python 3 (ipykernel)",
   "language": "python",
   "name": "python3"
  },
  "language_info": {
   "codemirror_mode": {
    "name": "ipython",
    "version": 3
   },
   "file_extension": ".py",
   "mimetype": "text/x-python",
   "name": "python",
   "nbconvert_exporter": "python",
   "pygments_lexer": "ipython3",
   "version": "3.12.7"
  }
 },
 "nbformat": 4,
 "nbformat_minor": 5
}
