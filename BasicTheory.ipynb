{
 "cells": [
  {
   "cell_type": "markdown",
   "id": "628c484b-a3b3-464b-969e-384175f3242a",
   "metadata": {},
   "source": [
    "I moved to [this fancy new website](https://github.kdberends.io/protonic)"
   ]
  }
 ],
 "metadata": {
  "kernelspec": {
   "display_name": "Python 3 (ipykernel)",
   "language": "python",
   "name": "python3"
  },
  "language_info": {
   "codemirror_mode": {
    "name": "ipython",
    "version": 3
   },
   "file_extension": ".py",
   "mimetype": "text/x-python",
   "name": "python",
   "nbconvert_exporter": "python",
   "pygments_lexer": "ipython3",
   "version": "3.12.7"
  }
 },
 "nbformat": 4,
 "nbformat_minor": 5
}
