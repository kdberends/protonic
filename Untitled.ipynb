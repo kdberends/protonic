{
 "cells": [
  {
   "cell_type": "markdown",
   "id": "c5ac6991-8e3f-4ee5-ab42-425d9056b81b",
   "metadata": {},
   "source": [
    "# Physics of proton therapy\n",
    "\n",
    "## Energy loss rate of ions (linear stopping power)\n",
    "\n",
    "Stopping power for a _beam_ of protons (not a single particle) is defined as the beam Energy (E) over distance (x)\n",
    "\n",
    "$$\n",
    "S = -\\frac{dE}{dx}\n",
    "$$\n",
    "\n",
    "### Bragg-Kleeman approximation\n",
    "The Bragg-Kleeman (1905) rule is an empirical fit that approximates the solution for dE/dX based on parameters $\\alpha$ and $x$\n",
    "\n",
    "$$\n",
    "-\\frac{dE}{dx} \\approx -\\frac{E^{1-p}}{-\\alpha p}\n",
    "$$\n",
    "\n",
    "with range\n",
    "\n",
    "$$\n",
    "R = \\alpha E_i**p\n",
    "$$\n",
    "\n",
    "if $p$ is considered dependent on the distance (BSc thesis Bert Bekker, RUG)\n",
    "\n",
    "$$\n",
    "E(x) = \\alpha E x**p\n",
    "$$\n",
    "\n",
    "with $\\alpha$ a material-dependent constant, $p$ a constant that takes into account the dependence on the energy of the beam and $E_i$ the initial energy of the proton beam. \n",
    "\n",
    "## Bethe approximation\n",
    "\n",
    "A better approximation is the Bethe & Bloch formula, that takes into account quantom mechanical effects and is given by:\n",
    "\n",
    "$$\n",
    "\\frac{S}{\\rho} = 4\\pi N_A r^2_em_ec^2\\frac{Z}{A}\\frac{z^2}{\\beta^2}\\left[\\ln \\frac{2m_ec^2\\gamma^2\\beta^2}{I}-\\beta^2-\\frac{delta}{2}-\\frac{C}{Z}\\right]\n",
    "$$\n",
    "\n",
    "The wiki formula collapses the electron density to $n$, expands $\\gamma$ and omits some correction terms:\n",
    "\n",
    "$$\n",
    "\\frac{S}{\\rho} = \\frac{4\\pi}{mec^2}\\frac{nz^2}{\\beta^2}\\frac{e^2}{4\\pi\\epsilon_0}^2  \\left[\\ln(\\frac{2m_ec^2\\beta^2}{I(1-\\beta^2)})-\\beta^2\\right]\n",
    "$$\n",
    "\n",
    "here $\\epsilon_0$ is the vacuum permittivity. The two correction terms are _\"$\\delta$ is the density correction item arising from the shielding of remote electrons by close electrons and will result in a reduction of energy loss for higher energies, and C is the shell correction item, which is important only for low energies where the particle velocity is near the velocity of the atomic electrons\"_. \n",
    "\n",
    "### Energy of a proton\n",
    "\n",
    "The energy of a moving proton is a combination of its rest mass and kinetic energy. \n",
    "\n",
    "$$\n",
    "E_p = \\frac{m_0c^2}{\\gamma^2} - m_0c^2\n",
    "$$\n",
    "\n",
    "here $m_0$ is the rest mass and $m_0c^2$ the rest energy. The above equation is equivalent to the root squared sum of the kinetic and rest energies:\n",
    "\n",
    "$$\n",
    "E_p = \\sqrt{E_k^2 + E_0^2}\n",
    "$$\n",
    "\n",
    "The velocity of the particle is obtained from\n",
    "\n",
    "$$\n",
    "v = \\frac{E_k}{E_p} c = \\sqrt{1-(\\frac{E_0}{E_p})^2)}\n",
    "$$\n",
    "\n",
    "With all this sorted out, let's compute the velocity of particles in a 250 MeV proton beam\n"
   ]
  },
  {
   "cell_type": "code",
   "execution_count": 11,
   "id": "b43fb8b7-5940-4cb9-8d01-cea4778dfd68",
   "metadata": {},
   "outputs": [
    {
     "name": "stdout",
     "output_type": "stream",
     "text": [
      "The velocity of a 250 MeV beam is 77186 km/s or 25.7% the speed of light\n"
     ]
    }
   ],
   "source": [
    "# Constants\n",
    "mp = 1.67262e-27 # mass of proton [kg-1]\n",
    "c = 299792458 # speed of light [ms^-1]\n",
    "Ek = 250 # MeV\n",
    "\n",
    "# Conversion formula from Joule to MeV\n",
    "Joule2MeV = lambda J: J/1.602176634e-13 # conversion\n",
    "MeV2Joule = lambda MeV: MeV*1.602176634e-13\n",
    "E2v = lambda Ek, Et: Ek*c/Et # conversion from energy to velocity\n",
    "\n",
    "# Rest energy of proton\n",
    "Ep0 = mp*c**2  # in kgms^-2 === Joule\n",
    "\n",
    "# Convert to MeV\n",
    "Ep0 = Joule2MeV(Ep0)\n",
    "\n",
    "# given an energy beam of 250 MeV, the total energy is \n",
    "EpT = (Ek**2 + Ep0**2)**0.5\n",
    "\n",
    "# Velocity of a proton\n",
    "v = E2v(Ek, EpT)\n",
    "\n",
    "\n",
    "\n",
    "print(f\"The velocity of a {Ek} MeV beam is {v/1000:.0f} km/s or {v/c*100:.1f}% the speed of light\")\n"
   ]
  },
  {
   "cell_type": "code",
   "execution_count": 1,
   "id": "eb2478b2-e22c-4c87-9ba8-83768961167e",
   "metadata": {},
   "outputs": [
    {
     "data": {
      "image/png": "[encoded data removed]",
      "text/plain": [
       "<Figure size 1000x500 with 1 Axes>"
      ]
     },
     "metadata": {},
     "output_type": "display_data"
    }
   ],
   "source": [
    "import matplotlib.pyplot as plt\n",
    "\n",
    "fig, ax = plt.subplots(1, figsize=(10,5))\n",
    "\n",
    "E = np.linspace(10, 250, 10)\n",
    "\n",
    "Na = 6.022e23 # Avogadro's number [mol**-1]\n",
    "re = 2.8179e-15 # classical electron radius [m]\n",
    "me = 9.10938356e-31 # electron mass [kg]\n",
    "c = 299792458 # speed of light [ms^-1]\n",
    "e = -1.602176634e−19  # elementary electron charge [C]\n",
    "pi = 3.1415\n",
    "\n",
    "#v =   # velocity of the projectile [ms^-1]"
   ]
  },
  {
   "cell_type": "code",
   "execution_count": null,
   "id": "1ed980e7-d6a4-4822-8b25-4874b5b5d3ff",
   "metadata": {},
   "outputs": [],
   "source": [
    "\n"
   ]
  }
 ],
 "metadata": {
  "kernelspec": {
   "display_name": "Python 3 (ipykernel)",
   "language": "python",
   "name": "python3"
  },
  "language_info": {
   "codemirror_mode": {
    "name": "ipython",
    "version": 3
   },
   "file_extension": ".py",
   "mimetype": "text/x-python",
   "name": "python",
   "nbconvert_exporter": "python",
   "pygments_lexer": "ipython3",
   "version": "3.9.20"
  }
 },
 "nbformat": 4,
 "nbformat_minor": 5
}
